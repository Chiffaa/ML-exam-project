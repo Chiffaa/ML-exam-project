{
 "cells": [
  {
   "cell_type": "code",
   "execution_count": 435,
   "id": "f784878b",
   "metadata": {},
   "outputs": [],
   "source": [
    "import numpy as np\n",
    "import pandas as pd\n",
    "from sklearn import tree\n",
    "from sklearn.model_selection import train_test_split\n",
    "from sklearn.linear_model import LinearRegression\n",
    "from sklearn.linear_model import LogisticRegression\n",
    "from sklearn.linear_model import Ridge\n",
    "from sklearn.linear_model import Lasso\n",
    "from sklearn.tree import DecisionTreeRegressor\n",
    "from sklearn.tree import DecisionTreeClassifier\n",
    "from sklearn.ensemble import RandomForestRegressor\n",
    "from sklearn.ensemble import RandomForestClassifier\n",
    "from sklearn.neighbors import KNeighborsRegressor\n",
    "from sklearn.metrics import mean_squared_error as mse\n",
    "from sklearn.metrics import r2_score\n",
    "from sklearn.metrics import accuracy_score\n",
    "from sklearn.metrics import confusion_matrix\n",
    "import tensorflow as tf\n",
    "from tensorflow import keras\n",
    "from keras.models import Sequential\n",
    "from keras.layers.core import Dense, Dropout\n",
    "import seaborn as sns\n",
    "import matplotlib.pyplot as plt\n",
    "%matplotlib inline"
   ]
  },
  {
   "cell_type": "markdown",
   "id": "efc2e0c3",
   "metadata": {},
   "source": [
    "## Data Preprocessing"
   ]
  },
  {
   "cell_type": "code",
   "execution_count": 2,
   "id": "d966c5f7",
   "metadata": {
    "scrolled": false
   },
   "outputs": [
    {
     "data": {
      "text/html": [
       "<div>\n",
       "<style scoped>\n",
       "    .dataframe tbody tr th:only-of-type {\n",
       "        vertical-align: middle;\n",
       "    }\n",
       "\n",
       "    .dataframe tbody tr th {\n",
       "        vertical-align: top;\n",
       "    }\n",
       "\n",
       "    .dataframe thead th {\n",
       "        text-align: right;\n",
       "    }\n",
       "</style>\n",
       "<table border=\"1\" class=\"dataframe\">\n",
       "  <thead>\n",
       "    <tr style=\"text-align: right;\">\n",
       "      <th></th>\n",
       "      <th>X</th>\n",
       "      <th>Y</th>\n",
       "      <th>month</th>\n",
       "      <th>day</th>\n",
       "      <th>FFMC</th>\n",
       "      <th>DMC</th>\n",
       "      <th>DC</th>\n",
       "      <th>ISI</th>\n",
       "      <th>temp</th>\n",
       "      <th>RH</th>\n",
       "      <th>wind</th>\n",
       "      <th>rain</th>\n",
       "      <th>area</th>\n",
       "    </tr>\n",
       "  </thead>\n",
       "  <tbody>\n",
       "    <tr>\n",
       "      <th>0</th>\n",
       "      <td>7</td>\n",
       "      <td>5</td>\n",
       "      <td>mar</td>\n",
       "      <td>fri</td>\n",
       "      <td>86.2</td>\n",
       "      <td>26.2</td>\n",
       "      <td>94.3</td>\n",
       "      <td>5.1</td>\n",
       "      <td>8.2</td>\n",
       "      <td>51</td>\n",
       "      <td>6.7</td>\n",
       "      <td>0.0</td>\n",
       "      <td>0.00</td>\n",
       "    </tr>\n",
       "    <tr>\n",
       "      <th>1</th>\n",
       "      <td>7</td>\n",
       "      <td>4</td>\n",
       "      <td>oct</td>\n",
       "      <td>tue</td>\n",
       "      <td>90.6</td>\n",
       "      <td>35.4</td>\n",
       "      <td>669.1</td>\n",
       "      <td>6.7</td>\n",
       "      <td>18.0</td>\n",
       "      <td>33</td>\n",
       "      <td>0.9</td>\n",
       "      <td>0.0</td>\n",
       "      <td>0.00</td>\n",
       "    </tr>\n",
       "    <tr>\n",
       "      <th>2</th>\n",
       "      <td>7</td>\n",
       "      <td>4</td>\n",
       "      <td>oct</td>\n",
       "      <td>sat</td>\n",
       "      <td>90.6</td>\n",
       "      <td>43.7</td>\n",
       "      <td>686.9</td>\n",
       "      <td>6.7</td>\n",
       "      <td>14.6</td>\n",
       "      <td>33</td>\n",
       "      <td>1.3</td>\n",
       "      <td>0.0</td>\n",
       "      <td>0.00</td>\n",
       "    </tr>\n",
       "    <tr>\n",
       "      <th>3</th>\n",
       "      <td>8</td>\n",
       "      <td>6</td>\n",
       "      <td>mar</td>\n",
       "      <td>fri</td>\n",
       "      <td>91.7</td>\n",
       "      <td>33.3</td>\n",
       "      <td>77.5</td>\n",
       "      <td>9.0</td>\n",
       "      <td>8.3</td>\n",
       "      <td>97</td>\n",
       "      <td>4.0</td>\n",
       "      <td>0.2</td>\n",
       "      <td>0.00</td>\n",
       "    </tr>\n",
       "    <tr>\n",
       "      <th>4</th>\n",
       "      <td>8</td>\n",
       "      <td>6</td>\n",
       "      <td>mar</td>\n",
       "      <td>sun</td>\n",
       "      <td>89.3</td>\n",
       "      <td>51.3</td>\n",
       "      <td>102.2</td>\n",
       "      <td>9.6</td>\n",
       "      <td>11.4</td>\n",
       "      <td>99</td>\n",
       "      <td>1.8</td>\n",
       "      <td>0.0</td>\n",
       "      <td>0.00</td>\n",
       "    </tr>\n",
       "    <tr>\n",
       "      <th>...</th>\n",
       "      <td>...</td>\n",
       "      <td>...</td>\n",
       "      <td>...</td>\n",
       "      <td>...</td>\n",
       "      <td>...</td>\n",
       "      <td>...</td>\n",
       "      <td>...</td>\n",
       "      <td>...</td>\n",
       "      <td>...</td>\n",
       "      <td>...</td>\n",
       "      <td>...</td>\n",
       "      <td>...</td>\n",
       "      <td>...</td>\n",
       "    </tr>\n",
       "    <tr>\n",
       "      <th>512</th>\n",
       "      <td>4</td>\n",
       "      <td>3</td>\n",
       "      <td>aug</td>\n",
       "      <td>sun</td>\n",
       "      <td>81.6</td>\n",
       "      <td>56.7</td>\n",
       "      <td>665.6</td>\n",
       "      <td>1.9</td>\n",
       "      <td>27.8</td>\n",
       "      <td>32</td>\n",
       "      <td>2.7</td>\n",
       "      <td>0.0</td>\n",
       "      <td>6.44</td>\n",
       "    </tr>\n",
       "    <tr>\n",
       "      <th>513</th>\n",
       "      <td>2</td>\n",
       "      <td>4</td>\n",
       "      <td>aug</td>\n",
       "      <td>sun</td>\n",
       "      <td>81.6</td>\n",
       "      <td>56.7</td>\n",
       "      <td>665.6</td>\n",
       "      <td>1.9</td>\n",
       "      <td>21.9</td>\n",
       "      <td>71</td>\n",
       "      <td>5.8</td>\n",
       "      <td>0.0</td>\n",
       "      <td>54.29</td>\n",
       "    </tr>\n",
       "    <tr>\n",
       "      <th>514</th>\n",
       "      <td>7</td>\n",
       "      <td>4</td>\n",
       "      <td>aug</td>\n",
       "      <td>sun</td>\n",
       "      <td>81.6</td>\n",
       "      <td>56.7</td>\n",
       "      <td>665.6</td>\n",
       "      <td>1.9</td>\n",
       "      <td>21.2</td>\n",
       "      <td>70</td>\n",
       "      <td>6.7</td>\n",
       "      <td>0.0</td>\n",
       "      <td>11.16</td>\n",
       "    </tr>\n",
       "    <tr>\n",
       "      <th>515</th>\n",
       "      <td>1</td>\n",
       "      <td>4</td>\n",
       "      <td>aug</td>\n",
       "      <td>sat</td>\n",
       "      <td>94.4</td>\n",
       "      <td>146.0</td>\n",
       "      <td>614.7</td>\n",
       "      <td>11.3</td>\n",
       "      <td>25.6</td>\n",
       "      <td>42</td>\n",
       "      <td>4.0</td>\n",
       "      <td>0.0</td>\n",
       "      <td>0.00</td>\n",
       "    </tr>\n",
       "    <tr>\n",
       "      <th>516</th>\n",
       "      <td>6</td>\n",
       "      <td>3</td>\n",
       "      <td>nov</td>\n",
       "      <td>tue</td>\n",
       "      <td>79.5</td>\n",
       "      <td>3.0</td>\n",
       "      <td>106.7</td>\n",
       "      <td>1.1</td>\n",
       "      <td>11.8</td>\n",
       "      <td>31</td>\n",
       "      <td>4.5</td>\n",
       "      <td>0.0</td>\n",
       "      <td>0.00</td>\n",
       "    </tr>\n",
       "  </tbody>\n",
       "</table>\n",
       "<p>517 rows × 13 columns</p>\n",
       "</div>"
      ],
      "text/plain": [
       "     X  Y month  day  FFMC    DMC     DC   ISI  temp  RH  wind  rain   area\n",
       "0    7  5   mar  fri  86.2   26.2   94.3   5.1   8.2  51   6.7   0.0   0.00\n",
       "1    7  4   oct  tue  90.6   35.4  669.1   6.7  18.0  33   0.9   0.0   0.00\n",
       "2    7  4   oct  sat  90.6   43.7  686.9   6.7  14.6  33   1.3   0.0   0.00\n",
       "3    8  6   mar  fri  91.7   33.3   77.5   9.0   8.3  97   4.0   0.2   0.00\n",
       "4    8  6   mar  sun  89.3   51.3  102.2   9.6  11.4  99   1.8   0.0   0.00\n",
       "..  .. ..   ...  ...   ...    ...    ...   ...   ...  ..   ...   ...    ...\n",
       "512  4  3   aug  sun  81.6   56.7  665.6   1.9  27.8  32   2.7   0.0   6.44\n",
       "513  2  4   aug  sun  81.6   56.7  665.6   1.9  21.9  71   5.8   0.0  54.29\n",
       "514  7  4   aug  sun  81.6   56.7  665.6   1.9  21.2  70   6.7   0.0  11.16\n",
       "515  1  4   aug  sat  94.4  146.0  614.7  11.3  25.6  42   4.0   0.0   0.00\n",
       "516  6  3   nov  tue  79.5    3.0  106.7   1.1  11.8  31   4.5   0.0   0.00\n",
       "\n",
       "[517 rows x 13 columns]"
      ]
     },
     "execution_count": 2,
     "metadata": {},
     "output_type": "execute_result"
    }
   ],
   "source": [
    "data = pd.read_csv('data/fires.csv')\n",
    "data"
   ]
  },
  {
   "cell_type": "markdown",
   "id": "855d29ba",
   "metadata": {},
   "source": [
    "Let's investigate the data at first. "
   ]
  },
  {
   "cell_type": "code",
   "execution_count": 3,
   "id": "a63a1b74",
   "metadata": {},
   "outputs": [
    {
     "data": {
      "image/png": "[encoded data removed]",
      "text/plain": [
       "<Figure size 432x288 with 1 Axes>"
      ]
     },
     "metadata": {
      "needs_background": "light"
     },
     "output_type": "display_data"
    }
   ],
   "source": [
    "plt.hist(data['area'], bins=10, edgecolor='white', linewidth=1)\n",
    "plt.show()"
   ]
  },
  {
   "cell_type": "markdown",
   "id": "abcdd1b4",
   "metadata": {},
   "source": [
    "We can see, that 'area' is distributed very non-uniformly, therefore, we perform scaling. "
   ]
  },
  {
   "cell_type": "code",
   "execution_count": 4,
   "id": "45f8dd2d",
   "metadata": {},
   "outputs": [],
   "source": [
    "data.loc[:, 'area'] = data.loc[:, 'area'].apply(lambda x: np.log(1+x))"
   ]
  },
  {
   "cell_type": "code",
   "execution_count": 5,
   "id": "5d7dd7ab",
   "metadata": {
    "scrolled": true
   },
   "outputs": [
    {
     "data": {
      "image/png": "[encoded data removed]",
      "text/plain": [
       "<Figure size 432x288 with 1 Axes>"
      ]
     },
     "metadata": {
      "needs_background": "light"
     },
     "output_type": "display_data"
    }
   ],
   "source": [
    "plt.hist(data['area'], bins=10, edgecolor='white', linewidth=1)\n",
    "plt.show()"
   ]
  },
  {
   "cell_type": "markdown",
   "id": "c46fcc56",
   "metadata": {},
   "source": [
    "Let's take a look at the 'rain' column. "
   ]
  },
  {
   "cell_type": "code",
   "execution_count": 6,
   "id": "c9555ed4",
   "metadata": {},
   "outputs": [
    {
     "data": {
      "image/png": "[encoded data removed]",
      "text/plain": [
       "<Figure size 432x288 with 1 Axes>"
      ]
     },
     "metadata": {
      "needs_background": "light"
     },
     "output_type": "display_data"
    }
   ],
   "source": [
    "plt.hist(data['rain'], bins=10, edgecolor='white', linewidth=1)\n",
    "plt.show()"
   ]
  },
  {
   "cell_type": "code",
   "execution_count": 671,
   "id": "ccd14834",
   "metadata": {
    "scrolled": true
   },
   "outputs": [
    {
     "data": {
      "text/plain": [
       "(8, 30)"
      ]
     },
     "execution_count": 671,
     "metadata": {},
     "output_type": "execute_result"
    }
   ],
   "source": [
    "data[data['rain'] != 0].shape"
   ]
  },
  {
   "cell_type": "markdown",
   "id": "958453a7",
   "metadata": {},
   "source": [
    "Most of the 'rain' values are zero. Let's substitute it with 1 when there was rain and 0 when there wasn't. "
   ]
  },
  {
   "cell_type": "code",
   "execution_count": 8,
   "id": "4a556497",
   "metadata": {},
   "outputs": [],
   "source": [
    "data['rain'] = (data['rain'] > 0).astype(int)"
   ]
  },
  {
   "cell_type": "markdown",
   "id": "71e707ae",
   "metadata": {},
   "source": [
    "We have the following categorical values: \n",
    "- month\n",
    "- day\n",
    "\n",
    "Let's transform them so we can work with it."
   ]
  },
  {
   "cell_type": "code",
   "execution_count": 9,
   "id": "581c2a30",
   "metadata": {
    "scrolled": false
   },
   "outputs": [],
   "source": [
    "data = pd.get_dummies(data)"
   ]
  },
  {
   "cell_type": "markdown",
   "id": "230a1eaf",
   "metadata": {},
   "source": [
    "Now let's normilize the data with MinMax normalization, since our data is quite on a different scale, which may lead to the lower model performance. "
   ]
  },
  {
   "cell_type": "code",
   "execution_count": 10,
   "id": "ff85c9fc",
   "metadata": {
    "scrolled": false
   },
   "outputs": [
    {
     "data": {
      "text/html": [
       "<div>\n",
       "<style scoped>\n",
       "    .dataframe tbody tr th:only-of-type {\n",
       "        vertical-align: middle;\n",
       "    }\n",
       "\n",
       "    .dataframe tbody tr th {\n",
       "        vertical-align: top;\n",
       "    }\n",
       "\n",
       "    .dataframe thead th {\n",
       "        text-align: right;\n",
       "    }\n",
       "</style>\n",
       "<table border=\"1\" class=\"dataframe\">\n",
       "  <thead>\n",
       "    <tr style=\"text-align: right;\">\n",
       "      <th></th>\n",
       "      <th>X</th>\n",
       "      <th>Y</th>\n",
       "      <th>FFMC</th>\n",
       "      <th>DMC</th>\n",
       "      <th>DC</th>\n",
       "      <th>ISI</th>\n",
       "      <th>temp</th>\n",
       "      <th>RH</th>\n",
       "      <th>wind</th>\n",
       "      <th>rain</th>\n",
       "      <th>...</th>\n",
       "      <th>month_nov</th>\n",
       "      <th>month_oct</th>\n",
       "      <th>month_sep</th>\n",
       "      <th>day_fri</th>\n",
       "      <th>day_mon</th>\n",
       "      <th>day_sat</th>\n",
       "      <th>day_sun</th>\n",
       "      <th>day_thu</th>\n",
       "      <th>day_tue</th>\n",
       "      <th>day_wed</th>\n",
       "    </tr>\n",
       "  </thead>\n",
       "  <tbody>\n",
       "    <tr>\n",
       "      <th>0</th>\n",
       "      <td>0.750</td>\n",
       "      <td>0.428571</td>\n",
       "      <td>0.870968</td>\n",
       "      <td>0.086492</td>\n",
       "      <td>0.101325</td>\n",
       "      <td>0.090909</td>\n",
       "      <td>0.192926</td>\n",
       "      <td>0.423529</td>\n",
       "      <td>0.700000</td>\n",
       "      <td>0.0</td>\n",
       "      <td>...</td>\n",
       "      <td>0.0</td>\n",
       "      <td>0.0</td>\n",
       "      <td>0.0</td>\n",
       "      <td>1.0</td>\n",
       "      <td>0.0</td>\n",
       "      <td>0.0</td>\n",
       "      <td>0.0</td>\n",
       "      <td>0.0</td>\n",
       "      <td>0.0</td>\n",
       "      <td>0.0</td>\n",
       "    </tr>\n",
       "    <tr>\n",
       "      <th>1</th>\n",
       "      <td>0.750</td>\n",
       "      <td>0.285714</td>\n",
       "      <td>0.927742</td>\n",
       "      <td>0.118194</td>\n",
       "      <td>0.775419</td>\n",
       "      <td>0.119430</td>\n",
       "      <td>0.508039</td>\n",
       "      <td>0.211765</td>\n",
       "      <td>0.055556</td>\n",
       "      <td>0.0</td>\n",
       "      <td>...</td>\n",
       "      <td>0.0</td>\n",
       "      <td>1.0</td>\n",
       "      <td>0.0</td>\n",
       "      <td>0.0</td>\n",
       "      <td>0.0</td>\n",
       "      <td>0.0</td>\n",
       "      <td>0.0</td>\n",
       "      <td>0.0</td>\n",
       "      <td>1.0</td>\n",
       "      <td>0.0</td>\n",
       "    </tr>\n",
       "    <tr>\n",
       "      <th>2</th>\n",
       "      <td>0.750</td>\n",
       "      <td>0.285714</td>\n",
       "      <td>0.927742</td>\n",
       "      <td>0.146795</td>\n",
       "      <td>0.796294</td>\n",
       "      <td>0.119430</td>\n",
       "      <td>0.398714</td>\n",
       "      <td>0.211765</td>\n",
       "      <td>0.100000</td>\n",
       "      <td>0.0</td>\n",
       "      <td>...</td>\n",
       "      <td>0.0</td>\n",
       "      <td>1.0</td>\n",
       "      <td>0.0</td>\n",
       "      <td>0.0</td>\n",
       "      <td>0.0</td>\n",
       "      <td>1.0</td>\n",
       "      <td>0.0</td>\n",
       "      <td>0.0</td>\n",
       "      <td>0.0</td>\n",
       "      <td>0.0</td>\n",
       "    </tr>\n",
       "    <tr>\n",
       "      <th>3</th>\n",
       "      <td>0.875</td>\n",
       "      <td>0.571429</td>\n",
       "      <td>0.941935</td>\n",
       "      <td>0.110958</td>\n",
       "      <td>0.081623</td>\n",
       "      <td>0.160428</td>\n",
       "      <td>0.196141</td>\n",
       "      <td>0.964706</td>\n",
       "      <td>0.400000</td>\n",
       "      <td>1.0</td>\n",
       "      <td>...</td>\n",
       "      <td>0.0</td>\n",
       "      <td>0.0</td>\n",
       "      <td>0.0</td>\n",
       "      <td>1.0</td>\n",
       "      <td>0.0</td>\n",
       "      <td>0.0</td>\n",
       "      <td>0.0</td>\n",
       "      <td>0.0</td>\n",
       "      <td>0.0</td>\n",
       "      <td>0.0</td>\n",
       "    </tr>\n",
       "    <tr>\n",
       "      <th>4</th>\n",
       "      <td>0.875</td>\n",
       "      <td>0.571429</td>\n",
       "      <td>0.910968</td>\n",
       "      <td>0.172984</td>\n",
       "      <td>0.110590</td>\n",
       "      <td>0.171123</td>\n",
       "      <td>0.295820</td>\n",
       "      <td>0.988235</td>\n",
       "      <td>0.155556</td>\n",
       "      <td>0.0</td>\n",
       "      <td>...</td>\n",
       "      <td>0.0</td>\n",
       "      <td>0.0</td>\n",
       "      <td>0.0</td>\n",
       "      <td>0.0</td>\n",
       "      <td>0.0</td>\n",
       "      <td>0.0</td>\n",
       "      <td>1.0</td>\n",
       "      <td>0.0</td>\n",
       "      <td>0.0</td>\n",
       "      <td>0.0</td>\n",
       "    </tr>\n",
       "    <tr>\n",
       "      <th>...</th>\n",
       "      <td>...</td>\n",
       "      <td>...</td>\n",
       "      <td>...</td>\n",
       "      <td>...</td>\n",
       "      <td>...</td>\n",
       "      <td>...</td>\n",
       "      <td>...</td>\n",
       "      <td>...</td>\n",
       "      <td>...</td>\n",
       "      <td>...</td>\n",
       "      <td>...</td>\n",
       "      <td>...</td>\n",
       "      <td>...</td>\n",
       "      <td>...</td>\n",
       "      <td>...</td>\n",
       "      <td>...</td>\n",
       "      <td>...</td>\n",
       "      <td>...</td>\n",
       "      <td>...</td>\n",
       "      <td>...</td>\n",
       "      <td>...</td>\n",
       "    </tr>\n",
       "    <tr>\n",
       "      <th>512</th>\n",
       "      <td>0.375</td>\n",
       "      <td>0.142857</td>\n",
       "      <td>0.811613</td>\n",
       "      <td>0.191592</td>\n",
       "      <td>0.771315</td>\n",
       "      <td>0.033868</td>\n",
       "      <td>0.823151</td>\n",
       "      <td>0.200000</td>\n",
       "      <td>0.255556</td>\n",
       "      <td>0.0</td>\n",
       "      <td>...</td>\n",
       "      <td>0.0</td>\n",
       "      <td>0.0</td>\n",
       "      <td>0.0</td>\n",
       "      <td>0.0</td>\n",
       "      <td>0.0</td>\n",
       "      <td>0.0</td>\n",
       "      <td>1.0</td>\n",
       "      <td>0.0</td>\n",
       "      <td>0.0</td>\n",
       "      <td>0.0</td>\n",
       "    </tr>\n",
       "    <tr>\n",
       "      <th>513</th>\n",
       "      <td>0.125</td>\n",
       "      <td>0.285714</td>\n",
       "      <td>0.811613</td>\n",
       "      <td>0.191592</td>\n",
       "      <td>0.771315</td>\n",
       "      <td>0.033868</td>\n",
       "      <td>0.633441</td>\n",
       "      <td>0.658824</td>\n",
       "      <td>0.600000</td>\n",
       "      <td>0.0</td>\n",
       "      <td>...</td>\n",
       "      <td>0.0</td>\n",
       "      <td>0.0</td>\n",
       "      <td>0.0</td>\n",
       "      <td>0.0</td>\n",
       "      <td>0.0</td>\n",
       "      <td>0.0</td>\n",
       "      <td>1.0</td>\n",
       "      <td>0.0</td>\n",
       "      <td>0.0</td>\n",
       "      <td>0.0</td>\n",
       "    </tr>\n",
       "    <tr>\n",
       "      <th>514</th>\n",
       "      <td>0.750</td>\n",
       "      <td>0.285714</td>\n",
       "      <td>0.811613</td>\n",
       "      <td>0.191592</td>\n",
       "      <td>0.771315</td>\n",
       "      <td>0.033868</td>\n",
       "      <td>0.610932</td>\n",
       "      <td>0.647059</td>\n",
       "      <td>0.700000</td>\n",
       "      <td>0.0</td>\n",
       "      <td>...</td>\n",
       "      <td>0.0</td>\n",
       "      <td>0.0</td>\n",
       "      <td>0.0</td>\n",
       "      <td>0.0</td>\n",
       "      <td>0.0</td>\n",
       "      <td>0.0</td>\n",
       "      <td>1.0</td>\n",
       "      <td>0.0</td>\n",
       "      <td>0.0</td>\n",
       "      <td>0.0</td>\n",
       "    </tr>\n",
       "    <tr>\n",
       "      <th>515</th>\n",
       "      <td>0.000</td>\n",
       "      <td>0.285714</td>\n",
       "      <td>0.976774</td>\n",
       "      <td>0.499311</td>\n",
       "      <td>0.711622</td>\n",
       "      <td>0.201426</td>\n",
       "      <td>0.752412</td>\n",
       "      <td>0.317647</td>\n",
       "      <td>0.400000</td>\n",
       "      <td>0.0</td>\n",
       "      <td>...</td>\n",
       "      <td>0.0</td>\n",
       "      <td>0.0</td>\n",
       "      <td>0.0</td>\n",
       "      <td>0.0</td>\n",
       "      <td>0.0</td>\n",
       "      <td>1.0</td>\n",
       "      <td>0.0</td>\n",
       "      <td>0.0</td>\n",
       "      <td>0.0</td>\n",
       "      <td>0.0</td>\n",
       "    </tr>\n",
       "    <tr>\n",
       "      <th>516</th>\n",
       "      <td>0.625</td>\n",
       "      <td>0.142857</td>\n",
       "      <td>0.784516</td>\n",
       "      <td>0.006547</td>\n",
       "      <td>0.115867</td>\n",
       "      <td>0.019608</td>\n",
       "      <td>0.308682</td>\n",
       "      <td>0.188235</td>\n",
       "      <td>0.455556</td>\n",
       "      <td>0.0</td>\n",
       "      <td>...</td>\n",
       "      <td>1.0</td>\n",
       "      <td>0.0</td>\n",
       "      <td>0.0</td>\n",
       "      <td>0.0</td>\n",
       "      <td>0.0</td>\n",
       "      <td>0.0</td>\n",
       "      <td>0.0</td>\n",
       "      <td>0.0</td>\n",
       "      <td>1.0</td>\n",
       "      <td>0.0</td>\n",
       "    </tr>\n",
       "  </tbody>\n",
       "</table>\n",
       "<p>517 rows × 30 columns</p>\n",
       "</div>"
      ],
      "text/plain": [
       "         X         Y      FFMC       DMC        DC       ISI      temp  \\\n",
       "0    0.750  0.428571  0.870968  0.086492  0.101325  0.090909  0.192926   \n",
       "1    0.750  0.285714  0.927742  0.118194  0.775419  0.119430  0.508039   \n",
       "2    0.750  0.285714  0.927742  0.146795  0.796294  0.119430  0.398714   \n",
       "3    0.875  0.571429  0.941935  0.110958  0.081623  0.160428  0.196141   \n",
       "4    0.875  0.571429  0.910968  0.172984  0.110590  0.171123  0.295820   \n",
       "..     ...       ...       ...       ...       ...       ...       ...   \n",
       "512  0.375  0.142857  0.811613  0.191592  0.771315  0.033868  0.823151   \n",
       "513  0.125  0.285714  0.811613  0.191592  0.771315  0.033868  0.633441   \n",
       "514  0.750  0.285714  0.811613  0.191592  0.771315  0.033868  0.610932   \n",
       "515  0.000  0.285714  0.976774  0.499311  0.711622  0.201426  0.752412   \n",
       "516  0.625  0.142857  0.784516  0.006547  0.115867  0.019608  0.308682   \n",
       "\n",
       "           RH      wind  rain  ...  month_nov  month_oct  month_sep  day_fri  \\\n",
       "0    0.423529  0.700000   0.0  ...        0.0        0.0        0.0      1.0   \n",
       "1    0.211765  0.055556   0.0  ...        0.0        1.0        0.0      0.0   \n",
       "2    0.211765  0.100000   0.0  ...        0.0        1.0        0.0      0.0   \n",
       "3    0.964706  0.400000   1.0  ...        0.0        0.0        0.0      1.0   \n",
       "4    0.988235  0.155556   0.0  ...        0.0        0.0        0.0      0.0   \n",
       "..        ...       ...   ...  ...        ...        ...        ...      ...   \n",
       "512  0.200000  0.255556   0.0  ...        0.0        0.0        0.0      0.0   \n",
       "513  0.658824  0.600000   0.0  ...        0.0        0.0        0.0      0.0   \n",
       "514  0.647059  0.700000   0.0  ...        0.0        0.0        0.0      0.0   \n",
       "515  0.317647  0.400000   0.0  ...        0.0        0.0        0.0      0.0   \n",
       "516  0.188235  0.455556   0.0  ...        1.0        0.0        0.0      0.0   \n",
       "\n",
       "     day_mon  day_sat  day_sun  day_thu  day_tue  day_wed  \n",
       "0        0.0      0.0      0.0      0.0      0.0      0.0  \n",
       "1        0.0      0.0      0.0      0.0      1.0      0.0  \n",
       "2        0.0      1.0      0.0      0.0      0.0      0.0  \n",
       "3        0.0      0.0      0.0      0.0      0.0      0.0  \n",
       "4        0.0      0.0      1.0      0.0      0.0      0.0  \n",
       "..       ...      ...      ...      ...      ...      ...  \n",
       "512      0.0      0.0      1.0      0.0      0.0      0.0  \n",
       "513      0.0      0.0      1.0      0.0      0.0      0.0  \n",
       "514      0.0      0.0      1.0      0.0      0.0      0.0  \n",
       "515      0.0      1.0      0.0      0.0      0.0      0.0  \n",
       "516      0.0      0.0      0.0      0.0      1.0      0.0  \n",
       "\n",
       "[517 rows x 30 columns]"
      ]
     },
     "execution_count": 10,
     "metadata": {},
     "output_type": "execute_result"
    }
   ],
   "source": [
    "data = (data - data.min()) / (data.max() - data.min())\n",
    "data"
   ]
  },
  {
   "cell_type": "markdown",
   "id": "a0125435",
   "metadata": {},
   "source": [
    "Now let's check whether there are any correlation in our data. "
   ]
  },
  {
   "cell_type": "code",
   "execution_count": 11,
   "id": "d8dbffd6",
   "metadata": {},
   "outputs": [
    {
     "data": {
      "image/png": "[encoded data removed]",
      "text/plain": [
       "<Figure size 1080x1080 with 2 Axes>"
      ]
     },
     "metadata": {
      "needs_background": "light"
     },
     "output_type": "display_data"
    }
   ],
   "source": [
    "fig = plt.figure(figsize = (15,15))\n",
    "\n",
    "sns.heatmap(data.corr(), vmax = .8, square = True)\n",
    "plt.show()"
   ]
  },
  {
   "cell_type": "markdown",
   "id": "eadab4a0",
   "metadata": {},
   "source": [
    "From this we can see, that there is no high correlation between any value and the area. "
   ]
  },
  {
   "cell_type": "markdown",
   "id": "a7095122",
   "metadata": {},
   "source": [
    "## Trivial models\n",
    "\n",
    "Let's train some pre-implemented models and see how well they perform. \n",
    "\n",
    "The following metrics were used:\n",
    "- Mean Square Error (no need to explain, right?);\n",
    "- r2-score - the proportion of the variance in the dependent variable that is predictable from the independent variable(s) (Wikipedia). Can be maximum 1.0, but also can be negative (which is bad). \n",
    "\n",
    "$$ R^2 = 1 - \\frac{\\sum\\limits_{i=1}^n (\\hat{y}_i-y_i)^2}{\\sum\\limits_{i=1}^n (y_i - \\bar{y}_i)^2} $$"
   ]
  },
  {
   "cell_type": "code",
   "execution_count": 72,
   "id": "d26d955a",
   "metadata": {},
   "outputs": [],
   "source": [
    "y = data['area']\n",
    "X = data\n",
    "X = X.drop('area', axis=1)"
   ]
  },
  {
   "cell_type": "markdown",
   "id": "93f565ac",
   "metadata": {},
   "source": [
    "Here we perform train test split:"
   ]
  },
  {
   "cell_type": "code",
   "execution_count": 20,
   "id": "02a02474",
   "metadata": {},
   "outputs": [],
   "source": [
    "X_train, X_test, y_train, y_test = train_test_split(X, y, test_size = 0.2)"
   ]
  },
  {
   "cell_type": "code",
   "execution_count": 277,
   "id": "39a9409c",
   "metadata": {},
   "outputs": [
    {
     "name": "stdout",
     "output_type": "stream",
     "text": [
      "Linear Regression\t mse: 0.042070244\tr2_score: -0.01406923835010443\n",
      "Ridge Regression\t mse: 0.042163573\tr2_score: -0.0163188783280801\n",
      "Lasso Regression\t mse: 0.04219751\tr2_score: -0.01713700763196524\n",
      "Decision Tree\t mse: 0.07886965874395546\tr2_score: -0.9010894350762102\n",
      "Random Forest\t mse: 0.04597049474178432\tr2_score: -0.10808165358684896\n",
      "KNN\t mse: 0.053447485\tr2_score: -0.28830838242476786\n"
     ]
    }
   ],
   "source": [
    "names = ['Linear Regression', 'Ridge Regression', 'Lasso Regression', 'Decision Tree', 'Random Forest', 'KNN']\n",
    "models = [LinearRegression(), Ridge(), Lasso(), DecisionTreeRegressor(), RandomForestRegressor(), KNeighborsRegressor()]\n",
    "\n",
    "mse_metric = []\n",
    "r2 = []\n",
    "\n",
    "for i in range(len(names)):\n",
    "    models[i].fit(X_train, y_train)\n",
    "    y_pred = models[i].predict(X_test)\n",
    "    mse_metric.append(mse(y_test, y_pred))\n",
    "    r2.append(r2_score(y_test, y_pred))\n",
    "    print(str(names[i]) + '\\t mse: ' + str(mse(y_test, y_pred))\n",
    "         + '\\t' + 'r2_score: ' + str(r2_score(y_test, y_pred)))"
   ]
  },
  {
   "cell_type": "code",
   "execution_count": 278,
   "id": "98372379",
   "metadata": {},
   "outputs": [
    {
     "data": {
      "image/png": "[encoded data removed]",
      "text/plain": [
       "<Figure size 432x288 with 1 Axes>"
      ]
     },
     "metadata": {
      "needs_background": "light"
     },
     "output_type": "display_data"
    }
   ],
   "source": [
    "plt.scatter(names, mse_metric, color='b')\n",
    "plt.plot(names, np.zeros(len(names)), color='g')\n",
    "plt.scatter(names, r2, color='r')\n",
    "plt.xticks(rotation=90)\n",
    "plt.show()"
   ]
  },
  {
   "cell_type": "markdown",
   "id": "efbb071c",
   "metadata": {},
   "source": [
    "We can see, that the best results are given by Linear Regression, Ridge Regression, Lasso Regression. \n",
    "Decision Tree showed the worst result. \n",
    "\n",
    "Even though the MSE metric seems to be low, the r2-score shows that all the models perform quite poorly. \n",
    "\n",
    "Let's check which metrics had the highest and lowest impact. "
   ]
  },
  {
   "cell_type": "code",
   "execution_count": 235,
   "id": "d9039c86",
   "metadata": {},
   "outputs": [
    {
     "data": {
      "image/png": "[encoded data removed]",
      "text/plain": [
       "<Figure size 432x288 with 1 Axes>"
      ]
     },
     "metadata": {
      "needs_background": "light"
     },
     "output_type": "display_data"
    }
   ],
   "source": [
    "plt.stem(X.columns, models[0].coef_)\n",
    "plt.xticks(rotation=90)\n",
    "plt.show()"
   ]
  },
  {
   "cell_type": "markdown",
   "id": "e27f15ec",
   "metadata": {},
   "source": [
    "From here we can see, that the highest impact has month_dec, month_nov, temp, and DC. \n",
    "\n",
    "The lowest impact (around zero) show month_apr and day_sun. \n",
    "\n",
    "Let's exclude it to get the impression whether it's gonna improve our model. "
   ]
  },
  {
   "cell_type": "code",
   "execution_count": 271,
   "id": "a88b10c6",
   "metadata": {},
   "outputs": [
    {
     "name": "stdout",
     "output_type": "stream",
     "text": [
      "Linear Regression\t mse: 0.04460199976178266\tr2_score: -0.07509518718305741\n",
      "Ridge Regression\t mse: 0.04442841031840777\tr2_score: -0.07091095382771706\n",
      "Lasso Regression\t mse: 0.042197511753643266\tr2_score: -0.01713694542267219\n",
      "Decision Tree\t mse: 0.08669924315604798\tr2_score: -1.0898152447717822\n",
      "Random Forest\t mse: 0.0556818153950645\tr2_score: -0.34216519583373706\n",
      "KNN\t mse: 0.046157002\tr2_score: -0.11257729570404984\n"
     ]
    }
   ],
   "source": [
    "X2_train = X_train.drop(['month_apr', 'day_sun'], axis=1)\n",
    "X2_test = X_test.drop(['month_apr', 'day_sun'], axis=1)\n",
    "models2 = [LinearRegression(), Ridge(), Lasso(), DecisionTreeRegressor(), RandomForestRegressor(), KNeighborsRegressor()]\n",
    "\n",
    "mse_metric2=[]\n",
    "r2_2=[]\n",
    "for i in range(len(names)):\n",
    "    models2[i].fit(X2_train, y_train)\n",
    "    y2_pred = models2[i].predict(X2_test)\n",
    "    mse_metric2.append(mse(y_test, y2_pred))\n",
    "    r2_2.append(r2_score(y_test, y2_pred))\n",
    "    print(str(names[i]) + '\\t mse: ' + str(mse(y_test, y2_pred))\n",
    "         + '\\t' + 'r2_score: ' + str(r2_score(y_test, y2_pred)))"
   ]
  },
  {
   "cell_type": "code",
   "execution_count": 522,
   "id": "94c7b422",
   "metadata": {},
   "outputs": [
    {
     "name": "stdout",
     "output_type": "stream",
     "text": [
      "Linear Regression\t mse: 0.042070244\tr2_score: -0.014069223749523907\n",
      "Ridge Regression\t mse: 0.04283706\tr2_score: -0.032552783994123535\n",
      "Lasso Regression\t mse: 0.04219751\tr2_score: -0.01713700763196524\n",
      "Decision Tree\t mse: 0.08095929025871867\tr2_score: -0.951458315317157\n",
      "Random Forest\t mse: 0.04692309713302257\tr2_score: -0.13104336498071456\n",
      "KNN\t mse: 0.05357171\tr2_score: -0.2913027583297516\n"
     ]
    }
   ],
   "source": [
    "X2_train = X_train.drop('month_dec', axis=1)\n",
    "X2_test = X_test.drop('month_dec', axis=1)\n",
    "models3 = [LinearRegression(), Ridge(), Lasso(), DecisionTreeRegressor(), RandomForestRegressor(), KNeighborsRegressor()]\n",
    "\n",
    "mse_metric3=[]\n",
    "r2_3=[]\n",
    "for i in range(len(names)):\n",
    "    models3[i].fit(X2_train2, y_train)\n",
    "    y2_pred3 = models3[i].predict(X2_test2)\n",
    "    mse_metric3.append(mse(y_test, y2_pred3))\n",
    "    r2_3.append(r2_score(y_test, y2_pred2))\n",
    "    print(str(names[i]) + '\\t mse: ' + str(mse(y_test, y2_pred3))\n",
    "         + '\\t' + 'r2_score: ' + str(r2_score(y_test, y2_pred3)))"
   ]
  },
  {
   "cell_type": "markdown",
   "id": "fcbce378",
   "metadata": {},
   "source": [
    "Removing month_dec resulted in increasing the weights of the other months. "
   ]
  },
  {
   "cell_type": "code",
   "execution_count": 514,
   "id": "3441e602",
   "metadata": {},
   "outputs": [
    {
     "data": {
      "image/png": "[encoded data removed]",
      "text/plain": [
       "<Figure size 432x288 with 1 Axes>"
      ]
     },
     "metadata": {
      "needs_background": "light"
     },
     "output_type": "display_data"
    }
   ],
   "source": [
    "plt.stem(X.columns.drop('month_dec'), models3[0].coef_)\n",
    "plt.xticks(rotation=90)\n",
    "plt.show()"
   ]
  },
  {
   "cell_type": "code",
   "execution_count": 560,
   "id": "f0e1e050",
   "metadata": {},
   "outputs": [
    {
     "name": "stderr",
     "output_type": "stream",
     "text": [
      "/tmp/ipykernel_20518/2560829346.py:12: UserWarning: FixedFormatter should only be used together with FixedLocator\n",
      "  ax0.set_xticklabels(names, rotation=45)\n",
      "/tmp/ipykernel_20518/2560829346.py:17: UserWarning: FixedFormatter should only be used together with FixedLocator\n",
      "  ax1.set_xticklabels(names, rotation=45)\n"
     ]
    },
    {
     "data": {
      "image/png": "[encoded data removed]",
      "text/plain": [
       "<Figure size 864x360 with 2 Axes>"
      ]
     },
     "metadata": {
      "needs_background": "light"
     },
     "output_type": "display_data"
    }
   ],
   "source": [
    "from matplotlib.patches import Rectangle\n",
    "\n",
    "fig, (ax0, ax1) = plt.subplots(nrows=1, ncols=2)\n",
    "fig.set_figheight(5)\n",
    "fig.set_figwidth(12)\n",
    "labels=['Full dataset', 'Without month_apr and day_sun', 'Without month_dec']\n",
    "colors = [\"red\", \"blue\", \"green\"]\n",
    "handles = [Rectangle((0, 0), 1, 1, color=c, ec=\"k\") for c in colors]\n",
    "ax0.scatter(names, mse_metric, color='r')\n",
    "ax0.scatter(names, mse_metric2, color='b')\n",
    "ax0.scatter(names, mse_metric3, color='g')\n",
    "ax0.set_xticklabels(names, rotation=45)\n",
    "ax0.set_title('Mean Square Error')\n",
    "ax1.scatter(names, r2, color='r')\n",
    "ax1.scatter(names, r2_2, color='b')\n",
    "ax1.scatter(names, r2_3, color='g')\n",
    "ax1.set_xticklabels(names, rotation=45)\n",
    "ax1.set_title('R2 score')\n",
    "fig.legend(handles, labels, ncol=3)\n",
    "plt.show()"
   ]
  },
  {
   "cell_type": "markdown",
   "id": "447b4dde",
   "metadata": {},
   "source": [
    "## NN"
   ]
  },
  {
   "cell_type": "markdown",
   "id": "dfe32254",
   "metadata": {},
   "source": [
    "Let's try if a simple NN can perform better. "
   ]
  },
  {
   "cell_type": "code",
   "execution_count": 22,
   "id": "1d7ab329",
   "metadata": {},
   "outputs": [],
   "source": [
    "X_train = np.asarray(X_train).astype('float32')\n",
    "y_train = np.asarray(y_train).astype('float32')"
   ]
  },
  {
   "cell_type": "code",
   "execution_count": 23,
   "id": "37fde1a8",
   "metadata": {},
   "outputs": [],
   "source": [
    "X_test = np.asarray(X_test).astype('float32')\n",
    "y_test = np.asarray(y_test).astype('float32')"
   ]
  },
  {
   "cell_type": "code",
   "execution_count": 604,
   "id": "75fe2a07",
   "metadata": {},
   "outputs": [
    {
     "name": "stdout",
     "output_type": "stream",
     "text": [
      "Model: \"sequential_54\"\n",
      "_________________________________________________________________\n",
      " Layer (type)                Output Shape              Param #   \n",
      "=================================================================\n",
      " dense_184 (Dense)           (None, 29)                870       \n",
      "                                                                 \n",
      " dense_185 (Dense)           (None, 29)                870       \n",
      "                                                                 \n",
      " dense_186 (Dense)           (None, 1)                 30        \n",
      "                                                                 \n",
      "=================================================================\n",
      "Total params: 1,770\n",
      "Trainable params: 1,770\n",
      "Non-trainable params: 0\n",
      "_________________________________________________________________\n"
     ]
    }
   ],
   "source": [
    "input_size=29\n",
    "output_size=1\n",
    "NN = Sequential()\n",
    "NN.add(Dense(29, input_dim = X_train.shape[1], activation = 'relu')) \n",
    "NN.add(Dense(29, activation = 'sigmoid'))\n",
    "NN.add(Dense(1, activation = 'relu'))\n",
    "NN.compile(loss=\"mean_squared_error\",metrics=['mse'])\n",
    "NN.summary()"
   ]
  },
  {
   "cell_type": "code",
   "execution_count": 605,
   "id": "6bf258e9",
   "metadata": {
    "scrolled": true
   },
   "outputs": [
    {
     "name": "stdout",
     "output_type": "stream",
     "text": [
      "Epoch 1/100\n",
      "11/11 [==============================] - 0s 12ms/step - loss: 1.6537 - mse: 1.6537 - val_loss: 0.9184 - val_mse: 0.9184\n",
      "Epoch 2/100\n",
      "11/11 [==============================] - 0s 4ms/step - loss: 0.7475 - mse: 0.7475 - val_loss: 0.4010 - val_mse: 0.4010\n",
      "Epoch 3/100\n",
      "11/11 [==============================] - 0s 4ms/step - loss: 0.3181 - mse: 0.3181 - val_loss: 0.1578 - val_mse: 0.1578\n",
      "Epoch 4/100\n",
      "11/11 [==============================] - 0s 4ms/step - loss: 0.1265 - mse: 0.1265 - val_loss: 0.0878 - val_mse: 0.0878\n",
      "Epoch 5/100\n",
      "11/11 [==============================] - 0s 4ms/step - loss: 0.0721 - mse: 0.0721 - val_loss: 0.0792 - val_mse: 0.0792\n",
      "Epoch 6/100\n",
      "11/11 [==============================] - 0s 4ms/step - loss: 0.0598 - mse: 0.0598 - val_loss: 0.0774 - val_mse: 0.0774\n",
      "Epoch 7/100\n",
      "11/11 [==============================] - 0s 4ms/step - loss: 0.0562 - mse: 0.0562 - val_loss: 0.0748 - val_mse: 0.0748\n",
      "Epoch 8/100\n",
      "11/11 [==============================] - 0s 4ms/step - loss: 0.0535 - mse: 0.0535 - val_loss: 0.0667 - val_mse: 0.0667\n",
      "Epoch 9/100\n",
      "11/11 [==============================] - 0s 4ms/step - loss: 0.0508 - mse: 0.0508 - val_loss: 0.0718 - val_mse: 0.0718\n",
      "Epoch 10/100\n",
      "11/11 [==============================] - 0s 4ms/step - loss: 0.0477 - mse: 0.0477 - val_loss: 0.0623 - val_mse: 0.0623\n",
      "Epoch 11/100\n",
      "11/11 [==============================] - 0s 4ms/step - loss: 0.0459 - mse: 0.0459 - val_loss: 0.0611 - val_mse: 0.0611\n",
      "Epoch 12/100\n",
      "11/11 [==============================] - 0s 4ms/step - loss: 0.0443 - mse: 0.0443 - val_loss: 0.0699 - val_mse: 0.0699\n",
      "Epoch 13/100\n",
      "11/11 [==============================] - 0s 4ms/step - loss: 0.0424 - mse: 0.0424 - val_loss: 0.0563 - val_mse: 0.0563\n",
      "Epoch 14/100\n",
      "11/11 [==============================] - 0s 4ms/step - loss: 0.0412 - mse: 0.0412 - val_loss: 0.0584 - val_mse: 0.0584\n",
      "Epoch 15/100\n",
      "11/11 [==============================] - 0s 4ms/step - loss: 0.0396 - mse: 0.0396 - val_loss: 0.0540 - val_mse: 0.0540\n",
      "Epoch 16/100\n",
      "11/11 [==============================] - 0s 4ms/step - loss: 0.0390 - mse: 0.0390 - val_loss: 0.0581 - val_mse: 0.0581\n",
      "Epoch 17/100\n",
      "11/11 [==============================] - 0s 4ms/step - loss: 0.0374 - mse: 0.0374 - val_loss: 0.0639 - val_mse: 0.0639\n",
      "Epoch 18/100\n",
      "11/11 [==============================] - 0s 3ms/step - loss: 0.0374 - mse: 0.0374 - val_loss: 0.0545 - val_mse: 0.0545\n",
      "Epoch 19/100\n",
      "11/11 [==============================] - 0s 4ms/step - loss: 0.0366 - mse: 0.0366 - val_loss: 0.0662 - val_mse: 0.0662\n",
      "Epoch 20/100\n",
      "11/11 [==============================] - 0s 3ms/step - loss: 0.0360 - mse: 0.0360 - val_loss: 0.0557 - val_mse: 0.0557\n",
      "Epoch 21/100\n",
      "11/11 [==============================] - 0s 3ms/step - loss: 0.0360 - mse: 0.0360 - val_loss: 0.0522 - val_mse: 0.0522\n",
      "Epoch 22/100\n",
      "11/11 [==============================] - 0s 4ms/step - loss: 0.0349 - mse: 0.0349 - val_loss: 0.0574 - val_mse: 0.0574\n",
      "Epoch 23/100\n",
      "11/11 [==============================] - 0s 4ms/step - loss: 0.0346 - mse: 0.0346 - val_loss: 0.0584 - val_mse: 0.0584\n",
      "Epoch 24/100\n",
      "11/11 [==============================] - 0s 3ms/step - loss: 0.0351 - mse: 0.0351 - val_loss: 0.0554 - val_mse: 0.0554\n",
      "Epoch 25/100\n",
      "11/11 [==============================] - 0s 3ms/step - loss: 0.0347 - mse: 0.0347 - val_loss: 0.0637 - val_mse: 0.0637\n",
      "Epoch 26/100\n",
      "11/11 [==============================] - 0s 4ms/step - loss: 0.0339 - mse: 0.0339 - val_loss: 0.0593 - val_mse: 0.0593\n",
      "Epoch 27/100\n",
      "11/11 [==============================] - 0s 4ms/step - loss: 0.0334 - mse: 0.0334 - val_loss: 0.0618 - val_mse: 0.0618\n",
      "Epoch 28/100\n",
      "11/11 [==============================] - 0s 4ms/step - loss: 0.0329 - mse: 0.0329 - val_loss: 0.0592 - val_mse: 0.0592\n",
      "Epoch 29/100\n",
      "11/11 [==============================] - 0s 4ms/step - loss: 0.0325 - mse: 0.0325 - val_loss: 0.0549 - val_mse: 0.0549\n",
      "Epoch 30/100\n",
      "11/11 [==============================] - 0s 3ms/step - loss: 0.0329 - mse: 0.0329 - val_loss: 0.0509 - val_mse: 0.0509\n",
      "Epoch 31/100\n",
      "11/11 [==============================] - 0s 3ms/step - loss: 0.0330 - mse: 0.0330 - val_loss: 0.0511 - val_mse: 0.0511\n",
      "Epoch 32/100\n",
      "11/11 [==============================] - 0s 3ms/step - loss: 0.0326 - mse: 0.0326 - val_loss: 0.0562 - val_mse: 0.0562\n",
      "Epoch 33/100\n",
      "11/11 [==============================] - 0s 3ms/step - loss: 0.0317 - mse: 0.0317 - val_loss: 0.0526 - val_mse: 0.0526\n",
      "Epoch 34/100\n",
      "11/11 [==============================] - 0s 3ms/step - loss: 0.0323 - mse: 0.0323 - val_loss: 0.0535 - val_mse: 0.0535\n",
      "Epoch 35/100\n",
      "11/11 [==============================] - 0s 4ms/step - loss: 0.0323 - mse: 0.0323 - val_loss: 0.0576 - val_mse: 0.0576\n",
      "Epoch 36/100\n",
      "11/11 [==============================] - 0s 4ms/step - loss: 0.0318 - mse: 0.0318 - val_loss: 0.0544 - val_mse: 0.0544\n",
      "Epoch 37/100\n",
      "11/11 [==============================] - 0s 3ms/step - loss: 0.0312 - mse: 0.0312 - val_loss: 0.0537 - val_mse: 0.0537\n",
      "Epoch 38/100\n",
      "11/11 [==============================] - 0s 3ms/step - loss: 0.0319 - mse: 0.0319 - val_loss: 0.0535 - val_mse: 0.0535\n",
      "Epoch 39/100\n",
      "11/11 [==============================] - 0s 3ms/step - loss: 0.0314 - mse: 0.0314 - val_loss: 0.0663 - val_mse: 0.0663\n",
      "Epoch 40/100\n",
      "11/11 [==============================] - 0s 3ms/step - loss: 0.0317 - mse: 0.0317 - val_loss: 0.0533 - val_mse: 0.0533\n",
      "Epoch 41/100\n",
      "11/11 [==============================] - 0s 3ms/step - loss: 0.0305 - mse: 0.0305 - val_loss: 0.0597 - val_mse: 0.0597\n",
      "Epoch 42/100\n",
      "11/11 [==============================] - 0s 3ms/step - loss: 0.0310 - mse: 0.0310 - val_loss: 0.0527 - val_mse: 0.0527\n",
      "Epoch 43/100\n",
      "11/11 [==============================] - 0s 3ms/step - loss: 0.0307 - mse: 0.0307 - val_loss: 0.0597 - val_mse: 0.0597\n",
      "Epoch 44/100\n",
      "11/11 [==============================] - 0s 4ms/step - loss: 0.0308 - mse: 0.0308 - val_loss: 0.0517 - val_mse: 0.0517\n",
      "Epoch 45/100\n",
      "11/11 [==============================] - 0s 4ms/step - loss: 0.0304 - mse: 0.0304 - val_loss: 0.0511 - val_mse: 0.0511\n",
      "Epoch 46/100\n",
      "11/11 [==============================] - 0s 4ms/step - loss: 0.0311 - mse: 0.0311 - val_loss: 0.0561 - val_mse: 0.0561\n",
      "Epoch 47/100\n",
      "11/11 [==============================] - 0s 3ms/step - loss: 0.0309 - mse: 0.0309 - val_loss: 0.0570 - val_mse: 0.0570\n",
      "Epoch 48/100\n",
      "11/11 [==============================] - 0s 3ms/step - loss: 0.0294 - mse: 0.0294 - val_loss: 0.0578 - val_mse: 0.0578\n",
      "Epoch 49/100\n",
      "11/11 [==============================] - 0s 3ms/step - loss: 0.0298 - mse: 0.0298 - val_loss: 0.0613 - val_mse: 0.0613\n",
      "Epoch 50/100\n",
      "11/11 [==============================] - 0s 4ms/step - loss: 0.0296 - mse: 0.0296 - val_loss: 0.0516 - val_mse: 0.0516\n",
      "Epoch 51/100\n",
      "11/11 [==============================] - 0s 4ms/step - loss: 0.0297 - mse: 0.0297 - val_loss: 0.0561 - val_mse: 0.0561\n",
      "Epoch 52/100\n",
      "11/11 [==============================] - 0s 4ms/step - loss: 0.0294 - mse: 0.0294 - val_loss: 0.0616 - val_mse: 0.0616\n",
      "Epoch 53/100\n",
      "11/11 [==============================] - 0s 4ms/step - loss: 0.0294 - mse: 0.0294 - val_loss: 0.0518 - val_mse: 0.0518\n",
      "Epoch 54/100\n",
      "11/11 [==============================] - 0s 4ms/step - loss: 0.0289 - mse: 0.0289 - val_loss: 0.0602 - val_mse: 0.0602\n",
      "Epoch 55/100\n",
      "11/11 [==============================] - 0s 4ms/step - loss: 0.0297 - mse: 0.0297 - val_loss: 0.0508 - val_mse: 0.0508\n",
      "Epoch 56/100\n",
      "11/11 [==============================] - 0s 4ms/step - loss: 0.0299 - mse: 0.0299 - val_loss: 0.0615 - val_mse: 0.0615\n",
      "Epoch 57/100\n",
      "11/11 [==============================] - 0s 4ms/step - loss: 0.0291 - mse: 0.0291 - val_loss: 0.0538 - val_mse: 0.0538\n",
      "Epoch 58/100\n",
      "11/11 [==============================] - 0s 3ms/step - loss: 0.0287 - mse: 0.0287 - val_loss: 0.0613 - val_mse: 0.0613\n",
      "Epoch 59/100\n",
      "11/11 [==============================] - 0s 3ms/step - loss: 0.0283 - mse: 0.0283 - val_loss: 0.0638 - val_mse: 0.0638\n",
      "Epoch 60/100\n",
      "11/11 [==============================] - 0s 3ms/step - loss: 0.0291 - mse: 0.0291 - val_loss: 0.0634 - val_mse: 0.0634\n",
      "Epoch 61/100\n",
      "11/11 [==============================] - 0s 3ms/step - loss: 0.0290 - mse: 0.0290 - val_loss: 0.0607 - val_mse: 0.0607\n",
      "Epoch 62/100\n",
      "11/11 [==============================] - 0s 3ms/step - loss: 0.0281 - mse: 0.0281 - val_loss: 0.0592 - val_mse: 0.0592\n",
      "Epoch 63/100\n"
     ]
    },
    {
     "name": "stdout",
     "output_type": "stream",
     "text": [
      "11/11 [==============================] - 0s 4ms/step - loss: 0.0286 - mse: 0.0286 - val_loss: 0.0551 - val_mse: 0.0551\n",
      "Epoch 64/100\n",
      "11/11 [==============================] - 0s 4ms/step - loss: 0.0282 - mse: 0.0282 - val_loss: 0.0517 - val_mse: 0.0517\n",
      "Epoch 65/100\n",
      "11/11 [==============================] - 0s 4ms/step - loss: 0.0278 - mse: 0.0278 - val_loss: 0.0628 - val_mse: 0.0628\n",
      "Epoch 66/100\n",
      "11/11 [==============================] - 0s 4ms/step - loss: 0.0280 - mse: 0.0280 - val_loss: 0.0536 - val_mse: 0.0536\n",
      "Epoch 67/100\n",
      "11/11 [==============================] - 0s 4ms/step - loss: 0.0280 - mse: 0.0280 - val_loss: 0.0566 - val_mse: 0.0566\n",
      "Epoch 68/100\n",
      "11/11 [==============================] - 0s 4ms/step - loss: 0.0275 - mse: 0.0275 - val_loss: 0.0536 - val_mse: 0.0536\n",
      "Epoch 69/100\n",
      "11/11 [==============================] - 0s 4ms/step - loss: 0.0278 - mse: 0.0278 - val_loss: 0.0511 - val_mse: 0.0511\n",
      "Epoch 70/100\n",
      "11/11 [==============================] - 0s 4ms/step - loss: 0.0278 - mse: 0.0278 - val_loss: 0.0565 - val_mse: 0.0565\n",
      "Epoch 71/100\n",
      "11/11 [==============================] - 0s 4ms/step - loss: 0.0273 - mse: 0.0273 - val_loss: 0.0583 - val_mse: 0.0583\n",
      "Epoch 72/100\n",
      "11/11 [==============================] - 0s 3ms/step - loss: 0.0274 - mse: 0.0274 - val_loss: 0.0533 - val_mse: 0.0533\n",
      "Epoch 73/100\n",
      "11/11 [==============================] - 0s 4ms/step - loss: 0.0284 - mse: 0.0284 - val_loss: 0.0618 - val_mse: 0.0618\n",
      "Epoch 74/100\n",
      "11/11 [==============================] - 0s 4ms/step - loss: 0.0274 - mse: 0.0274 - val_loss: 0.0624 - val_mse: 0.0624\n",
      "Epoch 75/100\n",
      "11/11 [==============================] - 0s 4ms/step - loss: 0.0267 - mse: 0.0267 - val_loss: 0.0552 - val_mse: 0.0552\n",
      "Epoch 76/100\n",
      "11/11 [==============================] - 0s 4ms/step - loss: 0.0266 - mse: 0.0266 - val_loss: 0.0552 - val_mse: 0.0552\n",
      "Epoch 77/100\n",
      "11/11 [==============================] - 0s 4ms/step - loss: 0.0273 - mse: 0.0273 - val_loss: 0.0557 - val_mse: 0.0557\n",
      "Epoch 78/100\n",
      "11/11 [==============================] - 0s 3ms/step - loss: 0.0270 - mse: 0.0270 - val_loss: 0.0579 - val_mse: 0.0579\n",
      "Epoch 79/100\n",
      "11/11 [==============================] - 0s 4ms/step - loss: 0.0271 - mse: 0.0271 - val_loss: 0.0573 - val_mse: 0.0573\n",
      "Epoch 80/100\n",
      "11/11 [==============================] - 0s 4ms/step - loss: 0.0270 - mse: 0.0270 - val_loss: 0.0655 - val_mse: 0.0655\n",
      "Epoch 81/100\n",
      "11/11 [==============================] - 0s 4ms/step - loss: 0.0264 - mse: 0.0264 - val_loss: 0.0665 - val_mse: 0.0665\n",
      "Epoch 82/100\n",
      "11/11 [==============================] - 0s 4ms/step - loss: 0.0268 - mse: 0.0268 - val_loss: 0.0613 - val_mse: 0.0613\n",
      "Epoch 83/100\n",
      "11/11 [==============================] - 0s 3ms/step - loss: 0.0274 - mse: 0.0274 - val_loss: 0.0612 - val_mse: 0.0612\n",
      "Epoch 84/100\n",
      "11/11 [==============================] - 0s 3ms/step - loss: 0.0262 - mse: 0.0262 - val_loss: 0.0684 - val_mse: 0.0684\n",
      "Epoch 85/100\n",
      "11/11 [==============================] - 0s 3ms/step - loss: 0.0261 - mse: 0.0261 - val_loss: 0.0607 - val_mse: 0.0607\n",
      "Epoch 86/100\n",
      "11/11 [==============================] - 0s 5ms/step - loss: 0.0256 - mse: 0.0256 - val_loss: 0.0536 - val_mse: 0.0536\n",
      "Epoch 87/100\n",
      "11/11 [==============================] - 0s 6ms/step - loss: 0.0270 - mse: 0.0270 - val_loss: 0.0544 - val_mse: 0.0544\n",
      "Epoch 88/100\n",
      "11/11 [==============================] - 0s 4ms/step - loss: 0.0258 - mse: 0.0258 - val_loss: 0.0625 - val_mse: 0.0625\n",
      "Epoch 89/100\n",
      "11/11 [==============================] - 0s 4ms/step - loss: 0.0263 - mse: 0.0263 - val_loss: 0.0583 - val_mse: 0.0583\n",
      "Epoch 90/100\n",
      "11/11 [==============================] - 0s 4ms/step - loss: 0.0256 - mse: 0.0256 - val_loss: 0.0607 - val_mse: 0.0607\n",
      "Epoch 91/100\n",
      "11/11 [==============================] - 0s 4ms/step - loss: 0.0251 - mse: 0.0251 - val_loss: 0.0613 - val_mse: 0.0613\n",
      "Epoch 92/100\n",
      "11/11 [==============================] - 0s 3ms/step - loss: 0.0263 - mse: 0.0263 - val_loss: 0.0585 - val_mse: 0.0585\n",
      "Epoch 93/100\n",
      "11/11 [==============================] - 0s 3ms/step - loss: 0.0254 - mse: 0.0254 - val_loss: 0.0590 - val_mse: 0.0590\n",
      "Epoch 94/100\n",
      "11/11 [==============================] - 0s 3ms/step - loss: 0.0253 - mse: 0.0253 - val_loss: 0.0604 - val_mse: 0.0604\n",
      "Epoch 95/100\n",
      "11/11 [==============================] - 0s 3ms/step - loss: 0.0263 - mse: 0.0263 - val_loss: 0.0611 - val_mse: 0.0611\n",
      "Epoch 96/100\n",
      "11/11 [==============================] - 0s 4ms/step - loss: 0.0256 - mse: 0.0256 - val_loss: 0.0583 - val_mse: 0.0583\n",
      "Epoch 97/100\n",
      "11/11 [==============================] - 0s 4ms/step - loss: 0.0258 - mse: 0.0258 - val_loss: 0.0637 - val_mse: 0.0637\n",
      "Epoch 98/100\n",
      "11/11 [==============================] - 0s 4ms/step - loss: 0.0250 - mse: 0.0250 - val_loss: 0.0564 - val_mse: 0.0564\n",
      "Epoch 99/100\n",
      "11/11 [==============================] - 0s 4ms/step - loss: 0.0253 - mse: 0.0253 - val_loss: 0.0591 - val_mse: 0.0591\n",
      "Epoch 100/100\n",
      "11/11 [==============================] - 0s 4ms/step - loss: 0.0256 - mse: 0.0256 - val_loss: 0.0642 - val_mse: 0.0642\n"
     ]
    }
   ],
   "source": [
    "history1 = NN.fit(X_train,y_train,epochs=100, validation_split=0.2)"
   ]
  },
  {
   "cell_type": "code",
   "execution_count": 606,
   "id": "649f46eb",
   "metadata": {},
   "outputs": [
    {
     "name": "stdout",
     "output_type": "stream",
     "text": [
      "4/4 [==============================] - 0s 1ms/step\n"
     ]
    }
   ],
   "source": [
    "y_preds = NN.predict(X_test)"
   ]
  },
  {
   "cell_type": "code",
   "execution_count": 607,
   "id": "ddfb9688",
   "metadata": {},
   "outputs": [
    {
     "name": "stdout",
     "output_type": "stream",
     "text": [
      "NN mse: 0.052216657\tr2_score: -0.2586404207893569\n"
     ]
    }
   ],
   "source": [
    "print('NN mse: ' + str(mse(y_test, y_preds))\n",
    "         + '\\t' + 'r2_score: ' + str(r2_score(y_test, y_preds)))"
   ]
  },
  {
   "cell_type": "code",
   "execution_count": 626,
   "id": "af4167f5",
   "metadata": {},
   "outputs": [
    {
     "data": {
      "image/png": "[encoded data removed]",
      "text/plain": [
       "<Figure size 432x288 with 1 Axes>"
      ]
     },
     "metadata": {
      "needs_background": "light"
     },
     "output_type": "display_data"
    }
   ],
   "source": [
    "plt.plot(history1.history['mse'], label='Train')\n",
    "plt.plot(history1.history['val_mse'], label='Valid')\n",
    "plt.legend()\n",
    "plt.xlabel('Epochs')\n",
    "plt.ylabel('Accuracy')\n",
    "plt.title('MSE Curves Epoch 100')\n",
    "plt.show()"
   ]
  },
  {
   "cell_type": "markdown",
   "id": "0a5e5c5d",
   "metadata": {},
   "source": [
    "## Let's switch to classification problem\n",
    "\n",
    "Since regression shows such a poor result, let's switch to classification problem. "
   ]
  },
  {
   "cell_type": "code",
   "execution_count": 67,
   "id": "628bf611",
   "metadata": {},
   "outputs": [
    {
     "data": {
      "image/png": "[encoded data removed]",
      "text/plain": [
       "<Figure size 432x288 with 1 Axes>"
      ]
     },
     "metadata": {
      "needs_background": "light"
     },
     "output_type": "display_data"
    }
   ],
   "source": [
    "plt.hist(data['area'], bins=10, edgecolor='white', linewidth=1)\n",
    "plt.show()"
   ]
  },
  {
   "cell_type": "markdown",
   "id": "e1e68617",
   "metadata": {},
   "source": [
    "Let's make new columns for normilized data:\n",
    "- area < 0.1\n",
    "- 0.1 <= area < 0.2\n",
    "- 0.2 <= area < 0.3\n",
    "- 0.3 <= area < 0.4\n",
    "- 0.4 <= area < 0.5\n",
    "- 0.5 <= area < 0.6\n",
    "- 0.6 <= area < 0.7\n",
    "- 0.7 <= area < 0.8\n",
    "- 0.8 <= area < 0.9\n",
    "- 0.9 <= area < 1.0"
   ]
  },
  {
   "cell_type": "code",
   "execution_count": 87,
   "id": "6ff6bc47",
   "metadata": {},
   "outputs": [],
   "source": [
    "y = pd.DataFrame(data['area'])\n",
    "y['< 0.1'] = (y['area']<0.1).astype(int)\n",
    "y['[0.1, 0.2)'] = ((y['area']>=0.1) & (y['area']<0.2)).astype(int)\n",
    "y['[0.2, 0.3)'] = ((y['area']>=0.2) & (y['area']<0.3)).astype(int)\n",
    "y['[0.3, 0.4)'] = ((y['area']>=0.3) & (y['area']<0.4)).astype(int)\n",
    "y['[0.4, 0.5)'] = ((y['area']>=0.4) & (y['area']<0.5)).astype(int)\n",
    "y['[0.5, 0.6)'] = ((y['area']>=0.5) & (y['area']<0.6)).astype(int)\n",
    "y['[0.6, 0.7)'] = ((y['area']>=0.6) & (y['area']<0.7)).astype(int)\n",
    "y['[0.7, 0.8)'] = ((y['area']>=0.7) & (y['area']<0.8)).astype(int)\n",
    "y['[0.8, 0.9)'] = ((y['area']>=0.8) & (y['area']<0.9)).astype(int)\n",
    "y['>= 0.9'] = ((y['area']>=0.9)).astype(int)\n",
    "y = y.drop('area', axis=1)"
   ]
  },
  {
   "cell_type": "code",
   "execution_count": 88,
   "id": "536098c6",
   "metadata": {},
   "outputs": [
    {
     "data": {
      "text/html": [
       "<div>\n",
       "<style scoped>\n",
       "    .dataframe tbody tr th:only-of-type {\n",
       "        vertical-align: middle;\n",
       "    }\n",
       "\n",
       "    .dataframe tbody tr th {\n",
       "        vertical-align: top;\n",
       "    }\n",
       "\n",
       "    .dataframe thead th {\n",
       "        text-align: right;\n",
       "    }\n",
       "</style>\n",
       "<table border=\"1\" class=\"dataframe\">\n",
       "  <thead>\n",
       "    <tr style=\"text-align: right;\">\n",
       "      <th></th>\n",
       "      <th>&lt; 0.1</th>\n",
       "      <th>[0.1, 0.2)</th>\n",
       "      <th>[0.2, 0.3)</th>\n",
       "      <th>[0.3, 0.4)</th>\n",
       "      <th>[0.4, 0.5)</th>\n",
       "      <th>[0.5, 0.6)</th>\n",
       "      <th>[0.6, 0.7)</th>\n",
       "      <th>[0.7, 0.8)</th>\n",
       "      <th>[0.8, 0.9)</th>\n",
       "      <th>&gt;= 0.9</th>\n",
       "    </tr>\n",
       "  </thead>\n",
       "  <tbody>\n",
       "    <tr>\n",
       "      <th>0</th>\n",
       "      <td>1</td>\n",
       "      <td>0</td>\n",
       "      <td>0</td>\n",
       "      <td>0</td>\n",
       "      <td>0</td>\n",
       "      <td>0</td>\n",
       "      <td>0</td>\n",
       "      <td>0</td>\n",
       "      <td>0</td>\n",
       "      <td>0</td>\n",
       "    </tr>\n",
       "    <tr>\n",
       "      <th>1</th>\n",
       "      <td>1</td>\n",
       "      <td>0</td>\n",
       "      <td>0</td>\n",
       "      <td>0</td>\n",
       "      <td>0</td>\n",
       "      <td>0</td>\n",
       "      <td>0</td>\n",
       "      <td>0</td>\n",
       "      <td>0</td>\n",
       "      <td>0</td>\n",
       "    </tr>\n",
       "    <tr>\n",
       "      <th>2</th>\n",
       "      <td>1</td>\n",
       "      <td>0</td>\n",
       "      <td>0</td>\n",
       "      <td>0</td>\n",
       "      <td>0</td>\n",
       "      <td>0</td>\n",
       "      <td>0</td>\n",
       "      <td>0</td>\n",
       "      <td>0</td>\n",
       "      <td>0</td>\n",
       "    </tr>\n",
       "    <tr>\n",
       "      <th>3</th>\n",
       "      <td>1</td>\n",
       "      <td>0</td>\n",
       "      <td>0</td>\n",
       "      <td>0</td>\n",
       "      <td>0</td>\n",
       "      <td>0</td>\n",
       "      <td>0</td>\n",
       "      <td>0</td>\n",
       "      <td>0</td>\n",
       "      <td>0</td>\n",
       "    </tr>\n",
       "    <tr>\n",
       "      <th>4</th>\n",
       "      <td>1</td>\n",
       "      <td>0</td>\n",
       "      <td>0</td>\n",
       "      <td>0</td>\n",
       "      <td>0</td>\n",
       "      <td>0</td>\n",
       "      <td>0</td>\n",
       "      <td>0</td>\n",
       "      <td>0</td>\n",
       "      <td>0</td>\n",
       "    </tr>\n",
       "    <tr>\n",
       "      <th>...</th>\n",
       "      <td>...</td>\n",
       "      <td>...</td>\n",
       "      <td>...</td>\n",
       "      <td>...</td>\n",
       "      <td>...</td>\n",
       "      <td>...</td>\n",
       "      <td>...</td>\n",
       "      <td>...</td>\n",
       "      <td>...</td>\n",
       "      <td>...</td>\n",
       "    </tr>\n",
       "    <tr>\n",
       "      <th>512</th>\n",
       "      <td>0</td>\n",
       "      <td>0</td>\n",
       "      <td>1</td>\n",
       "      <td>0</td>\n",
       "      <td>0</td>\n",
       "      <td>0</td>\n",
       "      <td>0</td>\n",
       "      <td>0</td>\n",
       "      <td>0</td>\n",
       "      <td>0</td>\n",
       "    </tr>\n",
       "    <tr>\n",
       "      <th>513</th>\n",
       "      <td>0</td>\n",
       "      <td>0</td>\n",
       "      <td>0</td>\n",
       "      <td>0</td>\n",
       "      <td>0</td>\n",
       "      <td>1</td>\n",
       "      <td>0</td>\n",
       "      <td>0</td>\n",
       "      <td>0</td>\n",
       "      <td>0</td>\n",
       "    </tr>\n",
       "    <tr>\n",
       "      <th>514</th>\n",
       "      <td>0</td>\n",
       "      <td>0</td>\n",
       "      <td>0</td>\n",
       "      <td>1</td>\n",
       "      <td>0</td>\n",
       "      <td>0</td>\n",
       "      <td>0</td>\n",
       "      <td>0</td>\n",
       "      <td>0</td>\n",
       "      <td>0</td>\n",
       "    </tr>\n",
       "    <tr>\n",
       "      <th>515</th>\n",
       "      <td>1</td>\n",
       "      <td>0</td>\n",
       "      <td>0</td>\n",
       "      <td>0</td>\n",
       "      <td>0</td>\n",
       "      <td>0</td>\n",
       "      <td>0</td>\n",
       "      <td>0</td>\n",
       "      <td>0</td>\n",
       "      <td>0</td>\n",
       "    </tr>\n",
       "    <tr>\n",
       "      <th>516</th>\n",
       "      <td>1</td>\n",
       "      <td>0</td>\n",
       "      <td>0</td>\n",
       "      <td>0</td>\n",
       "      <td>0</td>\n",
       "      <td>0</td>\n",
       "      <td>0</td>\n",
       "      <td>0</td>\n",
       "      <td>0</td>\n",
       "      <td>0</td>\n",
       "    </tr>\n",
       "  </tbody>\n",
       "</table>\n",
       "<p>517 rows × 10 columns</p>\n",
       "</div>"
      ],
      "text/plain": [
       "     < 0.1  [0.1, 0.2)  [0.2, 0.3)  [0.3, 0.4)  [0.4, 0.5)  [0.5, 0.6)  \\\n",
       "0        1           0           0           0           0           0   \n",
       "1        1           0           0           0           0           0   \n",
       "2        1           0           0           0           0           0   \n",
       "3        1           0           0           0           0           0   \n",
       "4        1           0           0           0           0           0   \n",
       "..     ...         ...         ...         ...         ...         ...   \n",
       "512      0           0           1           0           0           0   \n",
       "513      0           0           0           0           0           1   \n",
       "514      0           0           0           1           0           0   \n",
       "515      1           0           0           0           0           0   \n",
       "516      1           0           0           0           0           0   \n",
       "\n",
       "     [0.6, 0.7)  [0.7, 0.8)  [0.8, 0.9)  >= 0.9  \n",
       "0             0           0           0       0  \n",
       "1             0           0           0       0  \n",
       "2             0           0           0       0  \n",
       "3             0           0           0       0  \n",
       "4             0           0           0       0  \n",
       "..          ...         ...         ...     ...  \n",
       "512           0           0           0       0  \n",
       "513           0           0           0       0  \n",
       "514           0           0           0       0  \n",
       "515           0           0           0       0  \n",
       "516           0           0           0       0  \n",
       "\n",
       "[517 rows x 10 columns]"
      ]
     },
     "execution_count": 88,
     "metadata": {},
     "output_type": "execute_result"
    }
   ],
   "source": [
    "y"
   ]
  },
  {
   "cell_type": "code",
   "execution_count": 93,
   "id": "9a7c0f0d",
   "metadata": {},
   "outputs": [],
   "source": [
    "X_train_cl, X_test_cl, y_train_cl, y_test_cl = train_test_split(X, y, test_size = 0.2)"
   ]
  },
  {
   "cell_type": "code",
   "execution_count": 627,
   "id": "d9e5160b",
   "metadata": {},
   "outputs": [
    {
     "name": "stdout",
     "output_type": "stream",
     "text": [
      "Decision Tree accuracy: 0.5096153846153846\n",
      "Random Forest accuracy: 0.5\n"
     ]
    }
   ],
   "source": [
    "names_cl = ['Decision Tree', 'Random Forest']\n",
    "models_cl = [DecisionTreeClassifier(max_depth=1), RandomForestClassifier(n_estimators=50, max_depth=1)]\n",
    "\n",
    "acc=[]\n",
    "for i in range(len(names_cl)):\n",
    "    models_cl[i].fit(X_train_cl, y_train_cl)\n",
    "    y_pred_cl = models_cl[i].predict(X_test_cl)\n",
    "    acc.append(accuracy_score(y_test_cl, y_pred_cl))\n",
    "    print(str(names_cl[i]) + ' accuracy: ' + str(accuracy_score(y_test_cl, y_pred_cl)))"
   ]
  },
  {
   "cell_type": "code",
   "execution_count": 343,
   "id": "7fa50443",
   "metadata": {},
   "outputs": [
    {
     "name": "stdout",
     "output_type": "stream",
     "text": [
      "accuracy score for max depth 1 is 0.5\n",
      "accuracy score for max depth 6 is 0.3942307692307692\n",
      "accuracy score for max depth 11 is 0.3076923076923077\n",
      "accuracy score for max depth 16 is 0.3173076923076923\n",
      "accuracy score for max depth 21 is 0.3173076923076923\n",
      "accuracy score for max depth 26 is 0.2980769230769231\n",
      "accuracy score for max depth 31 is 0.2980769230769231\n",
      "accuracy score for max depth 36 is 0.28846153846153844\n",
      "accuracy score for max depth 41 is 0.3173076923076923\n",
      "accuracy score for max depth 46 is 0.3076923076923077\n",
      "accuracy score for max depth 51 is 0.2980769230769231\n",
      "accuracy score for max depth 56 is 0.27884615384615385\n",
      "accuracy score for max depth 61 is 0.2980769230769231\n",
      "accuracy score for max depth 66 is 0.3173076923076923\n",
      "accuracy score for max depth 71 is 0.2980769230769231\n",
      "accuracy score for max depth 76 is 0.2980769230769231\n",
      "accuracy score for max depth 81 is 0.2980769230769231\n",
      "accuracy score for max depth 86 is 0.27884615384615385\n",
      "accuracy score for max depth 91 is 0.2980769230769231\n",
      "accuracy score for max depth 96 is 0.28846153846153844\n"
     ]
    }
   ],
   "source": [
    "for i in range(1,100,5):\n",
    "    rcl = RandomForestClassifier(max_depth=i)\n",
    "    rcl.fit(X_train_cl, y_train_cl)\n",
    "    y_pred_cl = rcl.predict(X_test_cl)\n",
    "    print('accuracy score for max depth ' + str(i) +' is ' + str(accuracy_score(y_test_cl, y_pred_cl)))"
   ]
  },
  {
   "cell_type": "code",
   "execution_count": 344,
   "id": "a4cbccc5",
   "metadata": {},
   "outputs": [
    {
     "data": {
      "image/png": "[encoded data removed]",
      "text/plain": [
       "<Figure size 432x576 with 1 Axes>"
      ]
     },
     "metadata": {
      "needs_background": "light"
     },
     "output_type": "display_data"
    }
   ],
   "source": [
    "fig = plt.figure(figsize=(6,8))\n",
    "_ = tree.plot_tree(models_cl[0], \n",
    "                   feature_names=X.columns,  \n",
    "                   class_names=y.columns,\n",
    "                   filled=True)"
   ]
  },
  {
   "cell_type": "code",
   "execution_count": 346,
   "id": "ebca23a3",
   "metadata": {},
   "outputs": [
    {
     "name": "stderr",
     "output_type": "stream",
     "text": [
      "/tmp/ipykernel_20518/2774335629.py:1: UserWarning: Boolean Series key will be reindexed to match DataFrame index.\n",
      "  data[data['month_dec'] == 0][data['area'] == 0].shape\n"
     ]
    },
    {
     "data": {
      "text/plain": [
       "(247, 30)"
      ]
     },
     "execution_count": 346,
     "metadata": {},
     "output_type": "execute_result"
    }
   ],
   "source": [
    "data[data['month_dec'] == 0][data['area'] == 0].shape"
   ]
  },
  {
   "cell_type": "code",
   "execution_count": 333,
   "id": "6209d38c",
   "metadata": {},
   "outputs": [
    {
     "data": {
      "text/plain": [
       "(247, 30)"
      ]
     },
     "execution_count": 333,
     "metadata": {},
     "output_type": "execute_result"
    }
   ],
   "source": [
    "data[data['area'] == 0].shape"
   ]
  },
  {
   "cell_type": "code",
   "execution_count": 336,
   "id": "ec459636",
   "metadata": {},
   "outputs": [
    {
     "data": {
      "text/plain": [
       "(508, 30)"
      ]
     },
     "execution_count": 336,
     "metadata": {},
     "output_type": "execute_result"
    }
   ],
   "source": [
    "data[data['month_dec'] == 0].shape"
   ]
  },
  {
   "cell_type": "markdown",
   "id": "7a6bd463",
   "metadata": {},
   "source": [
    "## NN for classification"
   ]
  },
  {
   "cell_type": "code",
   "execution_count": 663,
   "id": "65ccd629",
   "metadata": {},
   "outputs": [
    {
     "name": "stdout",
     "output_type": "stream",
     "text": [
      "Model: \"sequential_69\"\n",
      "_________________________________________________________________\n",
      " Layer (type)                Output Shape              Param #   \n",
      "=================================================================\n",
      " dense_232 (Dense)           (None, 20)                600       \n",
      "                                                                 \n",
      " dense_233 (Dense)           (None, 10)                210       \n",
      "                                                                 \n",
      "=================================================================\n",
      "Total params: 810\n",
      "Trainable params: 810\n",
      "Non-trainable params: 0\n",
      "_________________________________________________________________\n"
     ]
    }
   ],
   "source": [
    "input_size=29\n",
    "output_size=10\n",
    "NN_cl = Sequential()\n",
    "NN_cl.add(Dense(20, input_dim = X_train_cl.shape[1], activation = 'sigmoid')) \n",
    "NN_cl.add(Dense(10, activation = 'softmax'))\n",
    "NN_cl.compile(optimizer='adam', loss=\"categorical_crossentropy\",metrics=['accuracy'])\n",
    "NN_cl.summary()"
   ]
  },
  {
   "cell_type": "code",
   "execution_count": 664,
   "id": "88f96043",
   "metadata": {
    "scrolled": true
   },
   "outputs": [
    {
     "name": "stdout",
     "output_type": "stream",
     "text": [
      "Epoch 1/20\n",
      "11/11 [==============================] - 0s 15ms/step - loss: 2.1081 - accuracy: 0.0848 - val_loss: 1.9953 - val_accuracy: 0.1325\n",
      "Epoch 2/20\n",
      "11/11 [==============================] - 0s 4ms/step - loss: 1.9855 - accuracy: 0.0848 - val_loss: 1.8847 - val_accuracy: 0.1446\n",
      "Epoch 3/20\n",
      "11/11 [==============================] - 0s 4ms/step - loss: 1.8809 - accuracy: 0.2606 - val_loss: 1.7932 - val_accuracy: 0.4578\n",
      "Epoch 4/20\n",
      "11/11 [==============================] - 0s 4ms/step - loss: 1.7956 - accuracy: 0.5212 - val_loss: 1.7200 - val_accuracy: 0.5301\n",
      "Epoch 5/20\n",
      "11/11 [==============================] - 0s 5ms/step - loss: 1.7266 - accuracy: 0.5424 - val_loss: 1.6642 - val_accuracy: 0.5301\n",
      "Epoch 6/20\n",
      "11/11 [==============================] - 0s 4ms/step - loss: 1.6711 - accuracy: 0.5424 - val_loss: 1.6225 - val_accuracy: 0.5301\n",
      "Epoch 7/20\n",
      "11/11 [==============================] - 0s 4ms/step - loss: 1.6307 - accuracy: 0.5424 - val_loss: 1.5907 - val_accuracy: 0.5301\n",
      "Epoch 8/20\n",
      "11/11 [==============================] - 0s 4ms/step - loss: 1.6016 - accuracy: 0.5424 - val_loss: 1.5677 - val_accuracy: 0.5301\n",
      "Epoch 9/20\n",
      "11/11 [==============================] - 0s 4ms/step - loss: 1.5785 - accuracy: 0.5424 - val_loss: 1.5521 - val_accuracy: 0.5301\n",
      "Epoch 10/20\n",
      "11/11 [==============================] - 0s 4ms/step - loss: 1.5619 - accuracy: 0.5424 - val_loss: 1.5411 - val_accuracy: 0.5301\n",
      "Epoch 11/20\n",
      "11/11 [==============================] - 0s 4ms/step - loss: 1.5502 - accuracy: 0.5424 - val_loss: 1.5327 - val_accuracy: 0.5301\n",
      "Epoch 12/20\n",
      "11/11 [==============================] - 0s 4ms/step - loss: 1.5420 - accuracy: 0.5424 - val_loss: 1.5275 - val_accuracy: 0.5301\n",
      "Epoch 13/20\n",
      "11/11 [==============================] - 0s 4ms/step - loss: 1.5350 - accuracy: 0.5424 - val_loss: 1.5260 - val_accuracy: 0.5301\n",
      "Epoch 14/20\n",
      "11/11 [==============================] - 0s 5ms/step - loss: 1.5302 - accuracy: 0.5424 - val_loss: 1.5230 - val_accuracy: 0.5301\n",
      "Epoch 15/20\n",
      "11/11 [==============================] - 0s 5ms/step - loss: 1.5264 - accuracy: 0.5424 - val_loss: 1.5223 - val_accuracy: 0.5301\n",
      "Epoch 16/20\n",
      "11/11 [==============================] - 0s 4ms/step - loss: 1.5225 - accuracy: 0.5424 - val_loss: 1.5202 - val_accuracy: 0.5301\n",
      "Epoch 17/20\n",
      "11/11 [==============================] - 0s 4ms/step - loss: 1.5202 - accuracy: 0.5424 - val_loss: 1.5193 - val_accuracy: 0.5301\n",
      "Epoch 18/20\n",
      "11/11 [==============================] - 0s 4ms/step - loss: 1.5178 - accuracy: 0.5424 - val_loss: 1.5170 - val_accuracy: 0.5301\n",
      "Epoch 19/20\n",
      "11/11 [==============================] - 0s 4ms/step - loss: 1.5155 - accuracy: 0.5424 - val_loss: 1.5165 - val_accuracy: 0.5301\n",
      "Epoch 20/20\n",
      "11/11 [==============================] - 0s 4ms/step - loss: 1.5139 - accuracy: 0.5424 - val_loss: 1.5158 - val_accuracy: 0.5301\n"
     ]
    }
   ],
   "source": [
    "history2 = NN_cl.fit(X_train_cl, y_train_cl, validation_split=0.2, epochs=20)"
   ]
  },
  {
   "cell_type": "code",
   "execution_count": 672,
   "id": "1010086e",
   "metadata": {},
   "outputs": [
    {
     "name": "stdout",
     "output_type": "stream",
     "text": [
      "4/4 [==============================] - 0s 1ms/step\n"
     ]
    }
   ],
   "source": [
    "y_pred_cl = NN_cl.predict(X_test_cl)"
   ]
  },
  {
   "cell_type": "code",
   "execution_count": 673,
   "id": "4c2353d0",
   "metadata": {},
   "outputs": [
    {
     "data": {
      "image/png": "[encoded data removed]",
      "text/plain": [
       "<Figure size 432x288 with 1 Axes>"
      ]
     },
     "metadata": {
      "needs_background": "light"
     },
     "output_type": "display_data"
    }
   ],
   "source": [
    "plt.plot(history2.history['accuracy'], label='Train')\n",
    "plt.plot(history2.history['val_accuracy'], label='Valid')\n",
    "plt.legend()\n",
    "plt.xlabel('Epochs')\n",
    "plt.ylabel('Accuracy')\n",
    "plt.title('Accuracy Curves over 20 Epoch')\n",
    "plt.show()"
   ]
  },
  {
   "cell_type": "code",
   "execution_count": 674,
   "id": "451168cb",
   "metadata": {},
   "outputs": [],
   "source": [
    "cm = confusion_matrix(np.asarray(y_test_cl).argmax(axis=1), np.asarray(y_pred_cl).argmax(axis=1))"
   ]
  },
  {
   "cell_type": "code",
   "execution_count": 675,
   "id": "68e12973",
   "metadata": {},
   "outputs": [
    {
     "data": {
      "image/png": "[encoded data removed]",
      "text/plain": [
       "<Figure size 432x288 with 2 Axes>"
      ]
     },
     "metadata": {
      "needs_background": "light"
     },
     "output_type": "display_data"
    }
   ],
   "source": [
    "ax= plt.subplot()\n",
    "sns.heatmap(cm, annot=True, fmt='g', ax=ax);  #annot=True to annotate cells, ftm='g' to disable scientific notation\n",
    "ax.set_xlabel('Predicted labels');ax.set_ylabel('True labels'); \n",
    "ax.set_title('Confusion Matrix'); "
   ]
  }
 ],
 "metadata": {
  "kernelspec": {
   "display_name": "Python 3 (ipykernel)",
   "language": "python",
   "name": "python3"
  },
  "language_info": {
   "codemirror_mode": {
    "name": "ipython",
    "version": 3
   },
   "file_extension": ".py",
   "mimetype": "text/x-python",
   "name": "python",
   "nbconvert_exporter": "python",
   "pygments_lexer": "ipython3",
   "version": "3.8.10"
  }
 },
 "nbformat": 4,
 "nbformat_minor": 5
}
